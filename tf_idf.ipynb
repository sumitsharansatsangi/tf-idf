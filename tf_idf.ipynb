{
 "cells": [
  {
   "cell_type": "code",
   "execution_count": 1,
   "metadata": {},
   "outputs": [],
   "source": [
    "from nltk.corpus  import stopwords\n",
    "d1=\"A baby learns to crawl, walk and then run .  We are in the crawling stage when \\\n",
    "it comes to applying machine learning.\"\n",
    "d2=\"Data scientists are statisticians because being a statistician is awesome and \\\n",
    "anyone who does cool things with data is a statistician.\""
   ]
  },
  {
   "cell_type": "code",
   "execution_count": 2,
   "metadata": {},
   "outputs": [],
   "source": [
    "d1=d1.lower()\n",
    "d2=d2.lower()"
   ]
  },
  {
   "cell_type": "code",
   "execution_count": 3,
   "metadata": {},
   "outputs": [],
   "source": [
    "d1_list=d1.split(\" \")"
   ]
  },
  {
   "cell_type": "code",
   "execution_count": 4,
   "metadata": {},
   "outputs": [],
   "source": [
    "d1_list=[i for i  in d1_list if i.isalpha() ]"
   ]
  },
  {
   "cell_type": "code",
   "execution_count": 5,
   "metadata": {},
   "outputs": [],
   "source": [
    "d1_list = [i for i in d1_list if i not in stopwords.words('english')]"
   ]
  },
  {
   "cell_type": "code",
   "execution_count": 6,
   "metadata": {},
   "outputs": [],
   "source": [
    "d2_list=d2.split(\" \")"
   ]
  },
  {
   "cell_type": "code",
   "execution_count": 7,
   "metadata": {},
   "outputs": [],
   "source": [
    "d2_list=[i for i  in d2_list if i.isalpha() ]"
   ]
  },
  {
   "cell_type": "code",
   "execution_count": 8,
   "metadata": {},
   "outputs": [],
   "source": [
    "d2_list = [i for i in d2_list if i not in stopwords.words('english')]"
   ]
  },
  {
   "cell_type": "code",
   "execution_count": 9,
   "metadata": {},
   "outputs": [],
   "source": [
    "d=list(set(d1_list+d2_list))"
   ]
  },
  {
   "cell_type": "code",
   "execution_count": 10,
   "metadata": {},
   "outputs": [],
   "source": [
    "dict_d1=dict.fromkeys(d,0)\n",
    "dict_d2=dict.fromkeys(d,0)"
   ]
  },
  {
   "cell_type": "code",
   "execution_count": 11,
   "metadata": {},
   "outputs": [],
   "source": [
    "imp_word = [i for i in d if i not in stopwords.words('english')]"
   ]
  },
  {
   "cell_type": "code",
   "execution_count": 12,
   "metadata": {},
   "outputs": [],
   "source": [
    "for i in d1_list:\n",
    "    dict_d1[i]+=1\n",
    "for i in d2_list:\n",
    "    dict_d2[i]+=1"
   ]
  },
  {
   "cell_type": "code",
   "execution_count": 13,
   "metadata": {},
   "outputs": [
    {
     "data": {
      "text/plain": [
       "{'learns': 1,\n",
       " 'comes': 1,\n",
       " 'walk': 1,\n",
       " 'stage': 1,\n",
       " 'statisticians': 0,\n",
       " 'statistician': 0,\n",
       " 'anyone': 0,\n",
       " 'scientists': 0,\n",
       " 'cool': 0,\n",
       " 'baby': 1,\n",
       " 'data': 0,\n",
       " 'machine': 1,\n",
       " 'crawling': 1,\n",
       " 'applying': 1,\n",
       " 'awesome': 0,\n",
       " 'run': 1,\n",
       " 'things': 0}"
      ]
     },
     "execution_count": 13,
     "metadata": {},
     "output_type": "execute_result"
    }
   ],
   "source": [
    "dict_d1"
   ]
  },
  {
   "cell_type": "code",
   "execution_count": 14,
   "metadata": {},
   "outputs": [
    {
     "data": {
      "text/plain": [
       "{'learns': 0,\n",
       " 'comes': 0,\n",
       " 'walk': 0,\n",
       " 'stage': 0,\n",
       " 'statisticians': 1,\n",
       " 'statistician': 1,\n",
       " 'anyone': 1,\n",
       " 'scientists': 1,\n",
       " 'cool': 1,\n",
       " 'baby': 0,\n",
       " 'data': 2,\n",
       " 'machine': 0,\n",
       " 'crawling': 0,\n",
       " 'applying': 0,\n",
       " 'awesome': 1,\n",
       " 'run': 0,\n",
       " 'things': 1}"
      ]
     },
     "execution_count": 14,
     "metadata": {},
     "output_type": "execute_result"
    }
   ],
   "source": [
    "dict_d2"
   ]
  },
  {
   "cell_type": "code",
   "execution_count": 15,
   "metadata": {},
   "outputs": [],
   "source": [
    "import pandas as pd"
   ]
  },
  {
   "cell_type": "code",
   "execution_count": 17,
   "metadata": {},
   "outputs": [
    {
     "data": {
      "text/html": [
       "<div>\n",
       "<style scoped>\n",
       "    .dataframe tbody tr th:only-of-type {\n",
       "        vertical-align: middle;\n",
       "    }\n",
       "\n",
       "    .dataframe tbody tr th {\n",
       "        vertical-align: top;\n",
       "    }\n",
       "\n",
       "    .dataframe thead th {\n",
       "        text-align: right;\n",
       "    }\n",
       "</style>\n",
       "<table border=\"1\" class=\"dataframe\">\n",
       "  <thead>\n",
       "    <tr style=\"text-align: right;\">\n",
       "      <th></th>\n",
       "      <th>anyone</th>\n",
       "      <th>applying</th>\n",
       "      <th>awesome</th>\n",
       "      <th>baby</th>\n",
       "      <th>comes</th>\n",
       "      <th>cool</th>\n",
       "      <th>crawling</th>\n",
       "      <th>data</th>\n",
       "      <th>learns</th>\n",
       "      <th>machine</th>\n",
       "      <th>run</th>\n",
       "      <th>scientists</th>\n",
       "      <th>stage</th>\n",
       "      <th>statistician</th>\n",
       "      <th>statisticians</th>\n",
       "      <th>things</th>\n",
       "      <th>walk</th>\n",
       "    </tr>\n",
       "  </thead>\n",
       "  <tbody>\n",
       "    <tr>\n",
       "      <th>0</th>\n",
       "      <td>0</td>\n",
       "      <td>1</td>\n",
       "      <td>0</td>\n",
       "      <td>1</td>\n",
       "      <td>1</td>\n",
       "      <td>0</td>\n",
       "      <td>1</td>\n",
       "      <td>0</td>\n",
       "      <td>1</td>\n",
       "      <td>1</td>\n",
       "      <td>1</td>\n",
       "      <td>0</td>\n",
       "      <td>1</td>\n",
       "      <td>0</td>\n",
       "      <td>0</td>\n",
       "      <td>0</td>\n",
       "      <td>1</td>\n",
       "    </tr>\n",
       "    <tr>\n",
       "      <th>1</th>\n",
       "      <td>1</td>\n",
       "      <td>0</td>\n",
       "      <td>1</td>\n",
       "      <td>0</td>\n",
       "      <td>0</td>\n",
       "      <td>1</td>\n",
       "      <td>0</td>\n",
       "      <td>2</td>\n",
       "      <td>0</td>\n",
       "      <td>0</td>\n",
       "      <td>0</td>\n",
       "      <td>1</td>\n",
       "      <td>0</td>\n",
       "      <td>1</td>\n",
       "      <td>1</td>\n",
       "      <td>1</td>\n",
       "      <td>0</td>\n",
       "    </tr>\n",
       "  </tbody>\n",
       "</table>\n",
       "</div>"
      ],
      "text/plain": [
       "   anyone  applying  awesome  baby  comes  cool  crawling  data  learns  \\\n",
       "0       0         1        0     1      1     0         1     0       1   \n",
       "1       1         0        1     0      0     1         0     2       0   \n",
       "\n",
       "   machine  run  scientists  stage  statistician  statisticians  things  walk  \n",
       "0        1    1           0      1             0              0       0     1  \n",
       "1        0    0           1      0             1              1       1     0  "
      ]
     },
     "execution_count": 17,
     "metadata": {},
     "output_type": "execute_result"
    }
   ],
   "source": [
    "pd.DataFrame([dict_d1,dict_d2])"
   ]
  },
  {
   "cell_type": "code",
   "execution_count": 30,
   "metadata": {},
   "outputs": [],
   "source": [
    "def computeTF(word_dict,d):\n",
    "    tf={}\n",
    "    n=len(d)\n",
    "    for word,count in word_dict.items():\n",
    "        tf[word]= count/float(n)\n",
    "    return(tf)    "
   ]
  },
  {
   "cell_type": "code",
   "execution_count": 31,
   "metadata": {},
   "outputs": [],
   "source": [
    "tf_d1=computeTF(dict_d1,d1)\n",
    "tf_d2=computeTF(dict_d2,d2)"
   ]
  },
  {
   "cell_type": "code",
   "execution_count": 32,
   "metadata": {},
   "outputs": [
    {
     "data": {
      "text/plain": [
       "{'learns': 0.008547008547008548,\n",
       " 'comes': 0.008547008547008548,\n",
       " 'walk': 0.008547008547008548,\n",
       " 'stage': 0.008547008547008548,\n",
       " 'statisticians': 0.0,\n",
       " 'statistician': 0.0,\n",
       " 'anyone': 0.0,\n",
       " 'scientists': 0.0,\n",
       " 'cool': 0.0,\n",
       " 'baby': 0.008547008547008548,\n",
       " 'data': 0.0,\n",
       " 'machine': 0.008547008547008548,\n",
       " 'crawling': 0.008547008547008548,\n",
       " 'applying': 0.008547008547008548,\n",
       " 'awesome': 0.0,\n",
       " 'run': 0.008547008547008548,\n",
       " 'things': 0.0}"
      ]
     },
     "execution_count": 32,
     "metadata": {},
     "output_type": "execute_result"
    }
   ],
   "source": [
    "tf_d1"
   ]
  },
  {
   "cell_type": "code",
   "execution_count": 23,
   "metadata": {},
   "outputs": [
    {
     "data": {
      "text/plain": [
       "{'learns': 0.0,\n",
       " 'comes': 0.0,\n",
       " 'walk': 0.0,\n",
       " 'stage': 0.0,\n",
       " 'statisticians': 0.007462686567164179,\n",
       " 'statistician': 0.007462686567164179,\n",
       " 'anyone': 0.007462686567164179,\n",
       " 'scientists': 0.007462686567164179,\n",
       " 'cool': 0.007462686567164179,\n",
       " 'baby': 0.0,\n",
       " 'data': 0.014925373134328358,\n",
       " 'machine': 0.0,\n",
       " 'crawling': 0.0,\n",
       " 'applying': 0.0,\n",
       " 'awesome': 0.007462686567164179,\n",
       " 'run': 0.0,\n",
       " 'things': 0.007462686567164179}"
      ]
     },
     "execution_count": 23,
     "metadata": {},
     "output_type": "execute_result"
    }
   ],
   "source": [
    "tf_d2"
   ]
  },
  {
   "cell_type": "code",
   "execution_count": 51,
   "metadata": {},
   "outputs": [],
   "source": [
    "def compute_idf(docList):\n",
    "    import math\n",
    "    idf_dict={}\n",
    "    N=len(docList)\n",
    "    idf_dict=dict.fromkeys(docList[0].keys(),0)\n",
    "    for doc in docList:\n",
    "        for word,val in doc.items():\n",
    "            if val>0:\n",
    "                idf_dict[word] += 1\n",
    "                           \n",
    "    for word,val in idf_dict.items():\n",
    "        idf_dict[word]=math.log(N/float(val))\n",
    "       \n",
    "    return idf_dict    \n",
    "    "
   ]
  },
  {
   "cell_type": "code",
   "execution_count": 52,
   "metadata": {},
   "outputs": [],
   "source": [
    "idfs=compute_idf([dict_d1,dict_d2])"
   ]
  },
  {
   "cell_type": "code",
   "execution_count": 54,
   "metadata": {},
   "outputs": [],
   "source": [
    "def compute_tf_idf(tf,idfs):\n",
    "    tf_idf={}\n",
    "    for word,val in tf.items():\n",
    "        tf_idf[word]=val*idfs[word]\n",
    "    return tf_idf    "
   ]
  },
  {
   "cell_type": "code",
   "execution_count": 57,
   "metadata": {},
   "outputs": [],
   "source": [
    "tf_idf_d1=compute_tf_idf(tf_d1,idfs)\n",
    "tf_idf_d2=compute_tf_idf(tf_d2,idfs)"
   ]
  },
  {
   "cell_type": "code",
   "execution_count": 58,
   "metadata": {},
   "outputs": [
    {
     "data": {
      "text/html": [
       "<div>\n",
       "<style scoped>\n",
       "    .dataframe tbody tr th:only-of-type {\n",
       "        vertical-align: middle;\n",
       "    }\n",
       "\n",
       "    .dataframe tbody tr th {\n",
       "        vertical-align: top;\n",
       "    }\n",
       "\n",
       "    .dataframe thead th {\n",
       "        text-align: right;\n",
       "    }\n",
       "</style>\n",
       "<table border=\"1\" class=\"dataframe\">\n",
       "  <thead>\n",
       "    <tr style=\"text-align: right;\">\n",
       "      <th></th>\n",
       "      <th>anyone</th>\n",
       "      <th>applying</th>\n",
       "      <th>awesome</th>\n",
       "      <th>baby</th>\n",
       "      <th>comes</th>\n",
       "      <th>cool</th>\n",
       "      <th>crawling</th>\n",
       "      <th>data</th>\n",
       "      <th>learns</th>\n",
       "      <th>machine</th>\n",
       "      <th>run</th>\n",
       "      <th>scientists</th>\n",
       "      <th>stage</th>\n",
       "      <th>statistician</th>\n",
       "      <th>statisticians</th>\n",
       "      <th>things</th>\n",
       "      <th>walk</th>\n",
       "    </tr>\n",
       "  </thead>\n",
       "  <tbody>\n",
       "    <tr>\n",
       "      <th>0</th>\n",
       "      <td>0.000000</td>\n",
       "      <td>0.005924</td>\n",
       "      <td>0.000000</td>\n",
       "      <td>0.005924</td>\n",
       "      <td>0.005924</td>\n",
       "      <td>0.000000</td>\n",
       "      <td>0.005924</td>\n",
       "      <td>0.000000</td>\n",
       "      <td>0.005924</td>\n",
       "      <td>0.005924</td>\n",
       "      <td>0.005924</td>\n",
       "      <td>0.000000</td>\n",
       "      <td>0.005924</td>\n",
       "      <td>0.000000</td>\n",
       "      <td>0.000000</td>\n",
       "      <td>0.000000</td>\n",
       "      <td>0.005924</td>\n",
       "    </tr>\n",
       "    <tr>\n",
       "      <th>1</th>\n",
       "      <td>0.005173</td>\n",
       "      <td>0.000000</td>\n",
       "      <td>0.005173</td>\n",
       "      <td>0.000000</td>\n",
       "      <td>0.000000</td>\n",
       "      <td>0.005173</td>\n",
       "      <td>0.000000</td>\n",
       "      <td>0.010345</td>\n",
       "      <td>0.000000</td>\n",
       "      <td>0.000000</td>\n",
       "      <td>0.000000</td>\n",
       "      <td>0.005173</td>\n",
       "      <td>0.000000</td>\n",
       "      <td>0.005173</td>\n",
       "      <td>0.005173</td>\n",
       "      <td>0.005173</td>\n",
       "      <td>0.000000</td>\n",
       "    </tr>\n",
       "  </tbody>\n",
       "</table>\n",
       "</div>"
      ],
      "text/plain": [
       "     anyone  applying   awesome      baby     comes      cool  crawling  \\\n",
       "0  0.000000  0.005924  0.000000  0.005924  0.005924  0.000000  0.005924   \n",
       "1  0.005173  0.000000  0.005173  0.000000  0.000000  0.005173  0.000000   \n",
       "\n",
       "       data    learns   machine       run  scientists     stage  statistician  \\\n",
       "0  0.000000  0.005924  0.005924  0.005924    0.000000  0.005924      0.000000   \n",
       "1  0.010345  0.000000  0.000000  0.000000    0.005173  0.000000      0.005173   \n",
       "\n",
       "   statisticians    things      walk  \n",
       "0       0.000000  0.000000  0.005924  \n",
       "1       0.005173  0.005173  0.000000  "
      ]
     },
     "execution_count": 58,
     "metadata": {},
     "output_type": "execute_result"
    }
   ],
   "source": [
    "pd.DataFrame([tf_idf_d1,tf_idf_d2])"
   ]
  },
  {
   "cell_type": "markdown",
   "metadata": {},
   "source": [
    "### This Shows that doc 1 is all about machine learning \n",
    "### whereas doc2 is all about data"
   ]
  },
  {
   "cell_type": "code",
   "execution_count": null,
   "metadata": {},
   "outputs": [],
   "source": []
  }
 ],
 "metadata": {
  "kernelspec": {
   "display_name": "Python 3",
   "language": "python",
   "name": "python3"
  },
  "language_info": {
   "codemirror_mode": {
    "name": "ipython",
    "version": 3
   },
   "file_extension": ".py",
   "mimetype": "text/x-python",
   "name": "python",
   "nbconvert_exporter": "python",
   "pygments_lexer": "ipython3",
   "version": "3.6.6"
  }
 },
 "nbformat": 4,
 "nbformat_minor": 2
}
